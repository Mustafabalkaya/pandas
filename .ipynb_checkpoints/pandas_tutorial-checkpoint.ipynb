{
 "cells": [
  {
   "cell_type": "markdown",
   "id": "c0a1399a",
   "metadata": {},
   "source": [
    "<H1>Pandas Modülü</H1>\n",
    "\n",
    "Pandas genelde veri işleme ve temizlemede oldukça efektif şekilde kullanılan, ama esas olarak makine öğrenmesi gibi alanlarda oldukça fazla kullanılan bir python modülüdür.\n",
    "\n",
    "Pandas modülü ağırlıklı olarak Dataframe adı verilen bir tür Tablo benzeri yapılar ile çalışır.\n",
    "\n",
    "Dataframe'leri en iyi şekilde anlamak için örnekler üzerinden gideceğiz. Üzerinde çalışacağımız veri setini önce indirmekle işe başlıyoruz:\n",
    "\n",
    "<H3>IMDB film veri setini indirme</H3>\n",
    "\n",
    "Pandas örneklerimizde kullanacağımız IMDB film kitaplık dosyasını kursun başlangıcında indirdiğiniz materyaller isimli zipli dosyaiçeriğinden alıp eğitim sırasında oluşturduğumuz .py uzantılı python  dosyası ile aynı dizine koyuyoruz.\n"
   ]
  },
  {
   "cell_type": "code",
   "execution_count": 2,
   "id": "a04a58b1",
   "metadata": {},
   "outputs": [],
   "source": [
    "import pandas as pd"
   ]
  },
  {
   "cell_type": "markdown",
   "id": "48a984b3",
   "metadata": {},
   "source": [
    "pandas kütüphaneisni import ettikten sonra indirdiğimiz IMDB film veri setini df simini verdiğimiz bir DATAFRAME değişkeninin içine kopyalalım:"
   ]
  },
  {
   "cell_type": "code",
   "execution_count": 3,
   "id": "b95509f2",
   "metadata": {},
   "outputs": [],
   "source": [
    "df = pd.read_csv(\"imdb_top_1000.csv\")"
   ]
  },
  {
   "cell_type": "markdown",
   "id": "b97fcf6c",
   "metadata": {},
   "source": [
    "Şimdi oluşturduğumuz datadrame'in ilk 5 satırını görüntüleyelim:"
   ]
  },
  {
   "cell_type": "code",
   "execution_count": 4,
   "id": "911494e7",
   "metadata": {},
   "outputs": [
    {
     "data": {
      "text/html": [
       "<div>\n",
       "<style scoped>\n",
       "    .dataframe tbody tr th:only-of-type {\n",
       "        vertical-align: middle;\n",
       "    }\n",
       "\n",
       "    .dataframe tbody tr th {\n",
       "        vertical-align: top;\n",
       "    }\n",
       "\n",
       "    .dataframe thead th {\n",
       "        text-align: right;\n",
       "    }\n",
       "</style>\n",
       "<table border=\"1\" class=\"dataframe\">\n",
       "  <thead>\n",
       "    <tr style=\"text-align: right;\">\n",
       "      <th></th>\n",
       "      <th>Series_Title</th>\n",
       "      <th>Released_Year</th>\n",
       "      <th>Certificate</th>\n",
       "      <th>Runtime</th>\n",
       "      <th>Genre</th>\n",
       "      <th>IMDB_Rating</th>\n",
       "      <th>Overview</th>\n",
       "      <th>Meta_score</th>\n",
       "      <th>Director</th>\n",
       "      <th>Star1</th>\n",
       "      <th>Star2</th>\n",
       "      <th>Star3</th>\n",
       "      <th>Star4</th>\n",
       "      <th>No_of_Votes</th>\n",
       "      <th>Gross</th>\n",
       "    </tr>\n",
       "  </thead>\n",
       "  <tbody>\n",
       "    <tr>\n",
       "      <th>0</th>\n",
       "      <td>The Shawshank Redemption</td>\n",
       "      <td>1994</td>\n",
       "      <td>A</td>\n",
       "      <td>142 min</td>\n",
       "      <td>Drama</td>\n",
       "      <td>9.3</td>\n",
       "      <td>Two imprisoned men bond over a number of years...</td>\n",
       "      <td>80.0</td>\n",
       "      <td>Frank Darabont</td>\n",
       "      <td>Tim Robbins</td>\n",
       "      <td>Morgan Freeman</td>\n",
       "      <td>Bob Gunton</td>\n",
       "      <td>William Sadler</td>\n",
       "      <td>2343110</td>\n",
       "      <td>28,341,469</td>\n",
       "    </tr>\n",
       "    <tr>\n",
       "      <th>1</th>\n",
       "      <td>The Godfather</td>\n",
       "      <td>1972</td>\n",
       "      <td>A</td>\n",
       "      <td>175 min</td>\n",
       "      <td>Crime, Drama</td>\n",
       "      <td>9.2</td>\n",
       "      <td>An organized crime dynasty's aging patriarch t...</td>\n",
       "      <td>100.0</td>\n",
       "      <td>Francis Ford Coppola</td>\n",
       "      <td>Marlon Brando</td>\n",
       "      <td>Al Pacino</td>\n",
       "      <td>James Caan</td>\n",
       "      <td>Diane Keaton</td>\n",
       "      <td>1620367</td>\n",
       "      <td>134,966,411</td>\n",
       "    </tr>\n",
       "    <tr>\n",
       "      <th>2</th>\n",
       "      <td>The Dark Knight</td>\n",
       "      <td>2008</td>\n",
       "      <td>UA</td>\n",
       "      <td>152 min</td>\n",
       "      <td>Action, Crime, Drama</td>\n",
       "      <td>9.0</td>\n",
       "      <td>When the menace known as the Joker wreaks havo...</td>\n",
       "      <td>84.0</td>\n",
       "      <td>Christopher Nolan</td>\n",
       "      <td>Christian Bale</td>\n",
       "      <td>Heath Ledger</td>\n",
       "      <td>Aaron Eckhart</td>\n",
       "      <td>Michael Caine</td>\n",
       "      <td>2303232</td>\n",
       "      <td>534,858,444</td>\n",
       "    </tr>\n",
       "    <tr>\n",
       "      <th>3</th>\n",
       "      <td>The Godfather: Part II</td>\n",
       "      <td>1974</td>\n",
       "      <td>A</td>\n",
       "      <td>202 min</td>\n",
       "      <td>Crime, Drama</td>\n",
       "      <td>9.0</td>\n",
       "      <td>The early life and career of Vito Corleone in ...</td>\n",
       "      <td>90.0</td>\n",
       "      <td>Francis Ford Coppola</td>\n",
       "      <td>Al Pacino</td>\n",
       "      <td>Robert De Niro</td>\n",
       "      <td>Robert Duvall</td>\n",
       "      <td>Diane Keaton</td>\n",
       "      <td>1129952</td>\n",
       "      <td>57,300,000</td>\n",
       "    </tr>\n",
       "    <tr>\n",
       "      <th>4</th>\n",
       "      <td>12 Angry Men</td>\n",
       "      <td>1957</td>\n",
       "      <td>U</td>\n",
       "      <td>96 min</td>\n",
       "      <td>Crime, Drama</td>\n",
       "      <td>9.0</td>\n",
       "      <td>A jury holdout attempts to prevent a miscarria...</td>\n",
       "      <td>96.0</td>\n",
       "      <td>Sidney Lumet</td>\n",
       "      <td>Henry Fonda</td>\n",
       "      <td>Lee J. Cobb</td>\n",
       "      <td>Martin Balsam</td>\n",
       "      <td>John Fiedler</td>\n",
       "      <td>689845</td>\n",
       "      <td>4,360,000</td>\n",
       "    </tr>\n",
       "  </tbody>\n",
       "</table>\n",
       "</div>"
      ],
      "text/plain": [
       "               Series_Title Released_Year Certificate  Runtime  \\\n",
       "0  The Shawshank Redemption          1994           A  142 min   \n",
       "1             The Godfather          1972           A  175 min   \n",
       "2           The Dark Knight          2008          UA  152 min   \n",
       "3    The Godfather: Part II          1974           A  202 min   \n",
       "4              12 Angry Men          1957           U   96 min   \n",
       "\n",
       "                  Genre  IMDB_Rating  \\\n",
       "0                 Drama          9.3   \n",
       "1          Crime, Drama          9.2   \n",
       "2  Action, Crime, Drama          9.0   \n",
       "3          Crime, Drama          9.0   \n",
       "4          Crime, Drama          9.0   \n",
       "\n",
       "                                            Overview  Meta_score  \\\n",
       "0  Two imprisoned men bond over a number of years...        80.0   \n",
       "1  An organized crime dynasty's aging patriarch t...       100.0   \n",
       "2  When the menace known as the Joker wreaks havo...        84.0   \n",
       "3  The early life and career of Vito Corleone in ...        90.0   \n",
       "4  A jury holdout attempts to prevent a miscarria...        96.0   \n",
       "\n",
       "               Director           Star1           Star2          Star3  \\\n",
       "0        Frank Darabont     Tim Robbins  Morgan Freeman     Bob Gunton   \n",
       "1  Francis Ford Coppola   Marlon Brando       Al Pacino     James Caan   \n",
       "2     Christopher Nolan  Christian Bale    Heath Ledger  Aaron Eckhart   \n",
       "3  Francis Ford Coppola       Al Pacino  Robert De Niro  Robert Duvall   \n",
       "4          Sidney Lumet     Henry Fonda     Lee J. Cobb  Martin Balsam   \n",
       "\n",
       "            Star4  No_of_Votes        Gross  \n",
       "0  William Sadler      2343110   28,341,469  \n",
       "1    Diane Keaton      1620367  134,966,411  \n",
       "2   Michael Caine      2303232  534,858,444  \n",
       "3    Diane Keaton      1129952   57,300,000  \n",
       "4    John Fiedler       689845    4,360,000  "
      ]
     },
     "execution_count": 4,
     "metadata": {},
     "output_type": "execute_result"
    }
   ],
   "source": [
    "df.head(5)"
   ]
  },
  {
   "cell_type": "markdown",
   "id": "9953a32d",
   "metadata": {},
   "source": [
    "Şimdi de son 5 satırını görelim:"
   ]
  },
  {
   "cell_type": "code",
   "execution_count": null,
   "id": "c3835e8d",
   "metadata": {},
   "outputs": [],
   "source": [
    "df.tail(5)"
   ]
  },
  {
   "cell_type": "markdown",
   "id": "ea37a7f2",
   "metadata": {},
   "source": [
    "df.shape komutu ile dataframe'imizin boyutlarını görelim:"
   ]
  },
  {
   "cell_type": "code",
   "execution_count": null,
   "id": "e9cf448d",
   "metadata": {},
   "outputs": [],
   "source": [
    "df.shape"
   ]
  },
  {
   "cell_type": "code",
   "execution_count": null,
   "id": "3bbf4201",
   "metadata": {},
   "outputs": [],
   "source": [
    "len(df)"
   ]
  },
  {
   "cell_type": "markdown",
   "id": "658e1d4b",
   "metadata": {},
   "source": [
    "Dataframe'deki Başlıklara bakalım:"
   ]
  },
  {
   "cell_type": "code",
   "execution_count": null,
   "id": "906a7efc",
   "metadata": {},
   "outputs": [],
   "source": [
    "df.columns"
   ]
  },
  {
   "cell_type": "markdown",
   "id": "9e4f340b",
   "metadata": {},
   "source": [
    "Dataframe içindeki veri tiplerine bakalım:"
   ]
  },
  {
   "cell_type": "code",
   "execution_count": null,
   "id": "df77db54",
   "metadata": {},
   "outputs": [],
   "source": [
    "df.dtypes"
   ]
  },
  {
   "cell_type": "markdown",
   "id": "752ac6aa",
   "metadata": {},
   "source": [
    "df.isnull fonksiyonu ile verilerde eksik olan hücreleri görelim:"
   ]
  },
  {
   "cell_type": "code",
   "execution_count": null,
   "id": "de6405ba",
   "metadata": {},
   "outputs": [],
   "source": [
    "df.isnull()"
   ]
  },
  {
   "cell_type": "markdown",
   "id": "4fb0fa60",
   "metadata": {},
   "source": [
    "Tek bir sütuna bakalım:\n",
    "    "
   ]
  },
  {
   "cell_type": "code",
   "execution_count": null,
   "id": "20c6f48c",
   "metadata": {},
   "outputs": [],
   "source": [
    "df[\"Series_Title\"]"
   ]
  },
  {
   "cell_type": "markdown",
   "id": "c24c4840",
   "metadata": {},
   "source": [
    "\n",
    "Tek bir sütunun ilk 5 kaydına bakalım:   "
   ]
  },
  {
   "cell_type": "code",
   "execution_count": null,
   "id": "036d06cb",
   "metadata": {},
   "outputs": [],
   "source": [
    "df[\"Series_Title\"][:5]"
   ]
  },
  {
   "cell_type": "markdown",
   "id": "6408fa89",
   "metadata": {},
   "source": [
    "\n",
    "Birden fazla sütunu bir değişkene atadığımızda o değişken de bir dataframe objesi olmaktadır:\n",
    "    "
   ]
  },
  {
   "cell_type": "code",
   "execution_count": null,
   "id": "42d3bb42",
   "metadata": {},
   "outputs": [],
   "source": [
    "df2 = df[['Series_Title', 'Released_Year']]\n",
    "df2"
   ]
  },
  {
   "cell_type": "markdown",
   "id": "9297c95f",
   "metadata": {},
   "source": [
    "<p>\n",
    "<p>\n",
    "<p>\n",
    "<p>\n",
    "Dataframe'i sıralama (sorting) etmek için sort_values kullanılır:"
   ]
  },
  {
   "cell_type": "code",
   "execution_count": null,
   "id": "938fd205",
   "metadata": {},
   "outputs": [],
   "source": [
    "df.sort_values('Released_Year')"
   ]
  },
  {
   "cell_type": "markdown",
   "id": "ce34aebd",
   "metadata": {},
   "source": [
    "\n",
    "Yıllara göre film sayılarını bulmak için:\n"
   ]
  },
  {
   "cell_type": "code",
   "execution_count": null,
   "id": "9d367e25",
   "metadata": {},
   "outputs": [],
   "source": [
    "df[\"Released_Year\"].value_counts()"
   ]
  },
  {
   "cell_type": "markdown",
   "id": "58db6d18",
   "metadata": {},
   "source": [
    "\n",
    "<H1> VERİ FİLTRELEME </H1>\n"
   ]
  },
  {
   "cell_type": "markdown",
   "id": "bc34ca54",
   "metadata": {},
   "source": [
    "Gelin Baba filminin IMDB rating'ini bulalım. \n",
    "Eğer filmin datarframedeki sırasını biliyorsak basitçe dataframe'in IMBD_Rating sütununun 2.elemanını (ilk index 0 olduğu \n",
    "için 1 diye yazıyoruz, listelerde ilk eleman 0'dan başlardı hatırlarsanız):"
   ]
  },
  {
   "cell_type": "code",
   "execution_count": null,
   "id": "064f4870",
   "metadata": {},
   "outputs": [],
   "source": [
    "df['IMDB_Rating'][1]\n",
    "\n"
   ]
  },
  {
   "cell_type": "markdown",
   "id": "f2579b0b",
   "metadata": {},
   "source": [
    "Ancak eğer Baba filminin veri setini görme şansımız yok yani büyük bir veri seti var içinde bir yerlerde o zaman kodla bulabiliriz:"
   ]
  },
  {
   "cell_type": "code",
   "execution_count": null,
   "id": "37a8ad0f",
   "metadata": {},
   "outputs": [],
   "source": [
    "df.loc[df['Series_Title']==\"The Godfather\"][\"IMDB_Rating\"]\n"
   ]
  },
  {
   "cell_type": "markdown",
   "id": "9d922005",
   "metadata": {},
   "source": [
    "Bunu nasıl yaptığımızı anlatalım. Öncelikle \n",
    "df.loc[df['Series_Title']==\"The Godfather\"] ile aslında Baba filminin olduğu satırı buluyoruz:"
   ]
  },
  {
   "cell_type": "code",
   "execution_count": null,
   "id": "be65fedd",
   "metadata": {},
   "outputs": [],
   "source": [
    "df.loc[df['Series_Title']==\"The Godfather\"]"
   ]
  },
  {
   "cell_type": "markdown",
   "id": "aab1b5ae",
   "metadata": {},
   "source": [
    "Ama bizim istediğimiz sadece IMDB_Rating değeri yani tüm satırı istemiyoruz, bu satırın içinden \"IMDB_Rating\" sütununu seçiyoruz\n",
    "\n",
    "Bize df.loc ile dönen bir değişken var o değişken aslında bir dataframe bakınız:"
   ]
  },
  {
   "cell_type": "code",
   "execution_count": null,
   "id": "436d4587",
   "metadata": {},
   "outputs": [],
   "source": [
    "type(df.loc[df['Series_Title']==\"The Godfather\"])"
   ]
  },
  {
   "cell_type": "markdown",
   "id": "4d5f6680",
   "metadata": {},
   "source": [
    "O zaman bir dataframe'in basitçe sütununu seçmek için köşeli parantez kullanıyor ve seçiyoruz:"
   ]
  },
  {
   "cell_type": "code",
   "execution_count": null,
   "id": "85b816d4",
   "metadata": {},
   "outputs": [],
   "source": [
    "df.loc[df['Series_Title']==\"The Godfather\"][\"IMDB_Rating\"]"
   ]
  },
  {
   "cell_type": "markdown",
   "id": "994b4423",
   "metadata": {},
   "source": [
    "Son olarak da IMDB_Rating değeri 8'in üstünde olan ve No_of_Votes 100000den çok olan filmleri görelim:"
   ]
  },
  {
   "cell_type": "code",
   "execution_count": null,
   "id": "75d95e0d",
   "metadata": {},
   "outputs": [],
   "source": [
    "df.loc[(df['IMDB_Rating']>=8) & (df['No_of_Votes']>=100000)]"
   ]
  },
  {
   "cell_type": "markdown",
   "id": "d7b2437c",
   "metadata": {},
   "source": [
    "Şimdi bir de IMDB_Rating değeri 8'in üstünde olan ve Gross değeri (yani gişe hasılatı) 30000000'dan çok olan filmleri görelim:"
   ]
  },
  {
   "cell_type": "code",
   "execution_count": null,
   "id": "c9121504",
   "metadata": {},
   "outputs": [],
   "source": [
    "df.loc[(df['IMDB_Rating']>=8) & (df['Gross']>=30000000)]"
   ]
  },
  {
   "cell_type": "code",
   "execution_count": null,
   "id": "fc3a05f1",
   "metadata": {},
   "outputs": [],
   "source": [
    "#object tipinde olduğu için hata veriyor:\n",
    "df.dtypes"
   ]
  },
  {
   "cell_type": "code",
   "execution_count": null,
   "id": "3e1afaad",
   "metadata": {},
   "outputs": [],
   "source": [
    "# convert column \"Gross\" of a DataFrame\n",
    "# to_numeric This function will try to change non-numeric \n",
    "# objects (such as strings) into integers or floating point numbers as appropriate.\n",
    "df['Gross'] = df['Gross'].str.replace(\",\", \"\")\n",
    "df[\"Gross\"] = pd.to_numeric(df[\"Gross\"])\n",
    "type(df[\"Gross\"][0])"
   ]
  },
  {
   "cell_type": "code",
   "execution_count": null,
   "id": "fb87d035",
   "metadata": {},
   "outputs": [],
   "source": [
    "df.loc[(df['IMDB_Rating']>=8.0) & (df['Gross']>=500000000)]"
   ]
  },
  {
   "cell_type": "markdown",
   "id": "c87f212b",
   "metadata": {},
   "source": [
    "\n",
    "<H2> Manuel olarak Dataframe Oluşturma</H2>\n",
    "\n",
    "Şimdiye kadar Dataframe'leri bir dosyadan oluşturup kullanmıştık. Şimdi de sıfırdan herhangi bir dosya kullanmadan ihtiyaç halinde kendimiz nasıl dataframe oluşturabiliriz onu öğreneceğiz.\n",
    "\n",
    "random kütüphanesi kullanarak örnek bir array oluşturacağız.\n"
   ]
  },
  {
   "cell_type": "code",
   "execution_count": null,
   "id": "abb504db",
   "metadata": {},
   "outputs": [],
   "source": [
    "import random\n",
    "\n",
    "randomlist1 = random.sample(range(15, 25), 2) \n",
    "randomlist2  = random.sample(range(15, 25), 2) \n",
    "\n",
    "randomlist1\n"
   ]
  },
  {
   "cell_type": "code",
   "execution_count": null,
   "id": "34e48cc8",
   "metadata": {},
   "outputs": [],
   "source": [
    "randomlist2"
   ]
  },
  {
   "cell_type": "code",
   "execution_count": null,
   "id": "6f017f42",
   "metadata": {},
   "outputs": [],
   "source": [
    "randomlistoflists = [randomlist1, randomlist2]\n",
    "randomlistoflists\n"
   ]
  },
  {
   "cell_type": "code",
   "execution_count": null,
   "id": "99462078",
   "metadata": {},
   "outputs": [],
   "source": [
    "columns = [\"Sıcaklık 1.gün\",\"Sıcaklık 2.gün\"] \n",
    "mydataframe = pd.DataFrame(randomlistoflists,index = [\"İst\",\"Ankara\"],columns = columns) \n",
    "mydataframe\n"
   ]
  },
  {
   "cell_type": "code",
   "execution_count": null,
   "id": "30a7c4ce",
   "metadata": {},
   "outputs": [],
   "source": [
    "type(mydataframe)"
   ]
  },
  {
   "cell_type": "code",
   "execution_count": null,
   "id": "679bf69c",
   "metadata": {},
   "outputs": [],
   "source": [
    "type(df)"
   ]
  },
  {
   "cell_type": "code",
   "execution_count": null,
   "id": "8956468a",
   "metadata": {},
   "outputs": [],
   "source": []
  },
  {
   "cell_type": "code",
   "execution_count": null,
   "id": "ccd5c9a1",
   "metadata": {},
   "outputs": [],
   "source": []
  }
 ],
 "metadata": {
  "kernelspec": {
   "display_name": "Python 3 (ipykernel)",
   "language": "python",
   "name": "python3"
  },
  "language_info": {
   "codemirror_mode": {
    "name": "ipython",
    "version": 3
   },
   "file_extension": ".py",
   "mimetype": "text/x-python",
   "name": "python",
   "nbconvert_exporter": "python",
   "pygments_lexer": "ipython3",
   "version": "3.11.5"
  }
 },
 "nbformat": 4,
 "nbformat_minor": 5
}
